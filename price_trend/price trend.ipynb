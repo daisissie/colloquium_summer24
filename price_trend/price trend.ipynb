{
 "cells": [
  {
   "cell_type": "code",
   "execution_count": 1,
   "metadata": {},
   "outputs": [],
   "source": [
    "import pandas as pd\n",
    "# the bare minimum\n",
    "import matplotlib.pyplot as plt\n",
    "import geopandas as gpd\n",
    "\n",
    "# more advanced\n",
    "import pyogrio as ogr\n",
    "from sklearn.cluster import KMeans\n",
    "from lonboard import Map, PolygonLayer\n",
    "from lonboard.colormap import apply_categorical_cmap, apply_continuous_cmap\n",
    "from palettable.colorbrewer.sequential import PuRd_9\n",
    "from matplotlib.colors import LogNorm\n",
    "\n",
    "import pydeck as pdk"
   ]
  },
  {
   "cell_type": "code",
   "execution_count": 2,
   "metadata": {},
   "outputs": [
    {
     "name": "stdout",
     "output_type": "stream",
     "text": [
      "       RegionID  SizeRank  RegionName RegionType StateName State        City  \\\n",
      "0         91982         1       77494        zip        TX    TX        Katy   \n",
      "1         61148         2        8701        zip        NJ    NJ    Lakewood   \n",
      "2         91940         3       77449        zip        TX    TX        Katy   \n",
      "3         62080         4       11368        zip        NY    NY    New York   \n",
      "4         91733         5       77084        zip        TX    TX     Houston   \n",
      "...         ...       ...         ...        ...       ...   ...         ...   \n",
      "26339     63527     39992       14441        zip        NY    NY     Dresden   \n",
      "26340     64705     39992       16682        zip        PA    PA      Sproul   \n",
      "26341     78282     39992       46799        zip        IN    IN  Zanesville   \n",
      "26342     67377     39992       22731        zip        VA    VA       Aroda   \n",
      "26343     80861     39992       52163        zip        IA    IA    Protivin   \n",
      "\n",
      "                                              Metro        CountyName  \\\n",
      "0              Houston-The Woodlands-Sugar Land, TX  Fort Bend County   \n",
      "1             New York-Newark-Jersey City, NY-NJ-PA      Ocean County   \n",
      "2              Houston-The Woodlands-Sugar Land, TX     Harris County   \n",
      "3             New York-Newark-Jersey City, NY-NJ-PA     Queens County   \n",
      "4              Houston-The Woodlands-Sugar Land, TX     Harris County   \n",
      "...                                             ...               ...   \n",
      "26339                                 Rochester, NY      Yates County   \n",
      "26340                                   Altoona, PA      Blair County   \n",
      "26341                                  Bluffton, IN      Wells County   \n",
      "26342  Washington-Arlington-Alexandria, DC-VA-MD-WV    Madison County   \n",
      "26343                                           NaN     Howard County   \n",
      "\n",
      "          2000-01-31  ...     2023-09-30     2023-10-31     2023-11-30  \\\n",
      "0      214724.296983  ...  495508.468732  496775.273604  497480.808242   \n",
      "1      137728.299476  ...  566107.250697  573469.272028  580290.890399   \n",
      "2      104976.099896  ...  282592.165439  282581.794849  282343.242309   \n",
      "3      148116.649679  ...  460261.789526  458234.332255  454878.865185   \n",
      "4      103962.845670  ...  277359.965391  277350.131337  276921.643696   \n",
      "...              ...  ...            ...            ...            ...   \n",
      "26339  102928.812060  ...  226393.877319  227018.891779  226844.125790   \n",
      "26340            NaN  ...   95211.507588   96263.067498   97235.553270   \n",
      "26341            NaN  ...  185082.171523  185287.469865  185197.559384   \n",
      "26342            NaN  ...  359176.982649  360831.175271  361726.709869   \n",
      "26343            NaN  ...  114552.544002  115105.057889  114850.505809   \n",
      "\n",
      "          2023-12-31     2024-01-31     2024-02-29     2024-03-31  \\\n",
      "0      498108.355423  499513.840126  501722.478754  504594.794999   \n",
      "1      585073.452329  586662.044177  589227.402896  594340.234957   \n",
      "2      282047.654956  282407.430360  283117.403667  284228.579526   \n",
      "3      450590.949525  447761.148606  446156.518854  449217.967295   \n",
      "4      276491.562564  276538.335078  277072.092199  278088.397022   \n",
      "...              ...            ...            ...            ...   \n",
      "26339  224896.505309  222272.335658  219865.320543  220686.431436   \n",
      "26340   97846.827416   97845.892098   97616.587215   97995.179015   \n",
      "26341  185043.783911  185395.716522  186849.852797  189366.188721   \n",
      "26342  362105.931541  361472.628756  361685.880832  363633.897396   \n",
      "26343  114989.574293  114542.782132  114058.980761  114220.500521   \n",
      "\n",
      "          2024-04-30     2024-05-31     2024-06-30  \n",
      "0      507170.130369  508512.211208  508825.477602  \n",
      "1      602667.273772  610030.631370  615467.664218  \n",
      "2      285200.832251  285741.575496  285701.327874  \n",
      "3      453730.457014  458355.229588  459058.239341  \n",
      "4      279095.026992  279604.806899  279435.505967  \n",
      "...              ...            ...            ...  \n",
      "26339  224249.009672  230139.106238  235378.350943  \n",
      "26340   99914.927295  102348.053469  105642.477308  \n",
      "26341  191778.230798  193638.478474  194479.590782  \n",
      "26342  367535.555726  372041.654024  375746.672329  \n",
      "26343  115332.464854  117393.470165  119534.346212  \n",
      "\n",
      "[26344 rows x 303 columns]\n"
     ]
    }
   ],
   "source": [
    "file_path = r\"C:\\Users\\daiyu\\Documents\\GitHub\\colloquium_summer24\\data\\zillow_home_values.csv\"\n",
    "df = pd.read_csv(file_path)\n",
    "print(df)"
   ]
  },
  {
   "cell_type": "code",
   "execution_count": 15,
   "metadata": {},
   "outputs": [],
   "source": [
    "zip_10025 = df[df['RegionName'] == 10025]"
   ]
  },
  {
   "cell_type": "code",
   "execution_count": 16,
   "metadata": {},
   "outputs": [
    {
     "name": "stdout",
     "output_type": "stream",
     "text": [
      "   RegionID  SizeRank  RegionName RegionType StateName State      City  \\\n",
      "0     61639        29       10025        zip        NY    NY  New York   \n",
      "\n",
      "                                   Metro       CountyName     2000-01-31  ...  \\\n",
      "0  New York-Newark-Jersey City, NY-NJ-PA  New York County  338300.813486  ...   \n",
      "\n",
      "     2023-09-30    2023-10-31    2023-11-30    2023-12-31    2024-01-31  \\\n",
      "0  1.041671e+06  1.036203e+06  1.031752e+06  1.031483e+06  1.031787e+06   \n",
      "\n",
      "     2024-02-29    2024-03-31    2024-04-30    2024-05-31    2024-06-30  \n",
      "0  1.031756e+06  1.028695e+06  1.028509e+06  1.026235e+06  1.027704e+06  \n",
      "\n",
      "[1 rows x 303 columns]\n"
     ]
    }
   ],
   "source": [
    "print(zip_10025)"
   ]
  },
  {
   "cell_type": "code",
   "execution_count": 8,
   "metadata": {},
   "outputs": [],
   "source": [
    "zip_10025.to_csv('zip_10025_price.csv', index=False)"
   ]
  },
  {
   "cell_type": "code",
   "execution_count": 9,
   "metadata": {},
   "outputs": [],
   "source": [
    "df = pd.read_csv('zip_10025_price.csv')"
   ]
  },
  {
   "cell_type": "code",
   "execution_count": 10,
   "metadata": {},
   "outputs": [
    {
     "name": "stdout",
     "output_type": "stream",
     "text": [
      "   RegionID  SizeRank  RegionName RegionType StateName State      City  \\\n",
      "0     61639        29       10025        zip        NY    NY  New York   \n",
      "\n",
      "                                   Metro       CountyName     2000-01-31  ...  \\\n",
      "0  New York-Newark-Jersey City, NY-NJ-PA  New York County  338300.813486  ...   \n",
      "\n",
      "     2023-09-30    2023-10-31    2023-11-30    2023-12-31    2024-01-31  \\\n",
      "0  1.041671e+06  1.036203e+06  1.031752e+06  1.031483e+06  1.031787e+06   \n",
      "\n",
      "     2024-02-29    2024-03-31    2024-04-30    2024-05-31    2024-06-30  \n",
      "0  1.031756e+06  1.028695e+06  1.028509e+06  1.026235e+06  1.027704e+06  \n",
      "\n",
      "[1 rows x 303 columns]\n"
     ]
    }
   ],
   "source": [
    "print(df.head())"
   ]
  },
  {
   "cell_type": "code",
   "execution_count": 22,
   "metadata": {},
   "outputs": [
    {
     "name": "stdout",
     "output_type": "stream",
     "text": [
      "       city     2000-01-31     2000-02-29    2000-03-31     2000-04-30  \\\n",
      "0  New York  338300.813486  341953.000556  345515.78578  353189.453809   \n",
      "\n",
      "      2000-05-31     2000-06-30     2000-07-31     2000-08-31    2000-09-30  \\\n",
      "0  360920.553073  368431.156611  376814.033866  384535.012081  391535.34137   \n",
      "\n",
      "   ...    2023-09-30    2023-10-31    2023-11-30    2023-12-31    2024-01-31  \\\n",
      "0  ...  1.041671e+06  1.036203e+06  1.031752e+06  1.031483e+06  1.031787e+06   \n",
      "\n",
      "     2024-02-29    2024-03-31    2024-04-30    2024-05-31    2024-06-30  \n",
      "0  1.031756e+06  1.028695e+06  1.028509e+06  1.026235e+06  1.027704e+06  \n",
      "\n",
      "[1 rows x 295 columns]\n"
     ]
    },
    {
     "data": {
      "image/png": "[encoded data removed]",
      "text/plain": [
       "<Figure size 1000x600 with 1 Axes>"
      ]
     },
     "metadata": {},
     "output_type": "display_data"
    }
   ],
   "source": [
    "\n",
    "df = pd.read_csv(r\"C:\\Users\\daiyu\\Documents\\GitHub\\colloquium_summer24\\price_trend\\zip_10025_price.csv\")\n",
    "\n",
    "# Display the first few rows of the dataset\n",
    "print(df.head())\n",
    "\n",
    "# Select the city of interest\n",
    "city = 'New York'  # Change to your city of interest\n",
    "\n",
    "# Filter the data for the selected city\n",
    "filtered_df = df[df['city'] == city]\n",
    "\n",
    "# Transpose the DataFrame (switch rows and columns)\n",
    "transposed_df = filtered_df.set_index('city').T\n",
    "\n",
    "# Reset index to get 'Date' as a column\n",
    "transposed_df.reset_index(inplace=True)\n",
    "transposed_df.rename(columns={'index': 'Date', city: 'Price'}, inplace=True)\n",
    "\n",
    "# Ensure the Date column is in datetime format\n",
    "transposed_df['Date'] = pd.to_datetime(transposed_df['Date'])\n",
    "\n",
    "# Plotting the price trend\n",
    "plt.figure(figsize=(10, 6))\n",
    "plt.plot(transposed_df['Date'], transposed_df['Price'], marker='o')\n",
    "plt.title(f'Price Trend in {city}')\n",
    "plt.xlabel('Date')\n",
    "plt.ylabel('Price')\n",
    "plt.grid(True)\n",
    "plt.show()\n"
   ]
  }
 ],
 "metadata": {
  "kernelspec": {
   "display_name": "cdp_mapping",
   "language": "python",
   "name": "python3"
  },
  "language_info": {
   "codemirror_mode": {
    "name": "ipython",
    "version": 3
   },
   "file_extension": ".py",
   "mimetype": "text/x-python",
   "name": "python",
   "nbconvert_exporter": "python",
   "pygments_lexer": "ipython3",
   "version": "3.12.3"
  }
 },
 "nbformat": 4,
 "nbformat_minor": 2
}
